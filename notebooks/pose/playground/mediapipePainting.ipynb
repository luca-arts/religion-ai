{
  "cells": [
    {
      "cell_type": "markdown",
      "metadata": {
        "colab_type": "text",
        "id": "view-in-github"
      },
      "source": [
        "<a href=\"https://colab.research.google.com/github/luca-arts/religion-ai/blob/master/notebooks/pose/playground/mediapipePainting.ipynb\" target=\"_parent\"><img src=\"https://colab.research.google.com/assets/colab-badge.svg\" alt=\"Open In Colab\"/></a>"
      ]
    },
    {
      "cell_type": "code",
      "execution_count": null,
      "metadata": {},
      "outputs": [],
      "source": [
        "!pip install opencv-python\n",
        "!pip install mediapipe\n",
        "\n"
      ]
    },
    {
      "cell_type": "code",
      "execution_count": 4,
      "metadata": {
        "id": "caeYvYwMthJB"
      },
      "outputs": [],
      "source": [
        "import cv2\n",
        "import mediapipe as mp\n",
        "# import line below only on colab\n",
        "from google.colab.patches import cv2_imshow\n",
        "\n",
        "# initialize Pose estimator\n",
        "mp_drawing = mp.solutions.drawing_utils\n",
        "mp_pose = mp.solutions.pose\n",
        "\n",
        "pose = mp_pose.Pose(\n",
        "    min_detection_confidence=0.5,\n",
        "    min_tracking_confidence=0.5)\n",
        "showready = False\n",
        "while True:\n",
        "    if not showready:\n",
        "        # RGB = cv2.imread(\"../../../images/pose1.jpeg\", cv2.IMREAD_COLOR)\n",
        "        # for colab upload an image to the runtime!\n",
        "        RGB = cv2.imread(\"/content/pose1.jpeg\", cv2.IMREAD_COLOR)\n",
        "        # process the RGB frame to get the result\n",
        "        results = pose.process(RGB)\n",
        "        print(\"x =\",results.pose_landmarks.landmark[mp_pose.PoseLandmark.NOSE].x)\n",
        "        print(\"y = \", results.pose_landmarks.landmark[mp_pose.PoseLandmark.NOSE].y)\n",
        "        print(\"z = \",results.pose_landmarks.landmark[mp_pose.PoseLandmark.NOSE].z)\n",
        "\n",
        "        mp_drawing.draw_landmarks(RGB, results.pose_landmarks, mp_pose.POSE_CONNECTIONS)\n",
        "\n",
        "        # show the final output on local\n",
        "        # cv2.imshow('Output', RGB)\n",
        "        #use below line on Colab\n",
        "        cv2_imshow(RGB)\n",
        "        showready = True\n",
        "\n",
        "    if cv2.waitKey(1) == ord('q'):\n",
        "        break\n",
        "cv2.destroyAllWindows()"
      ]
    }
  ],
  "metadata": {
    "colab": {
      "authorship_tag": "ABX9TyO9YfphDP3mVXuZzcuFzrWl",
      "include_colab_link": true,
      "name": "Untitled1.ipynb",
      "provenance": []
    },
    "kernelspec": {
      "display_name": "Python 3",
      "name": "python3"
    },
    "language_info": {
      "codemirror_mode": {
        "name": "ipython",
        "version": 3
      },
      "file_extension": ".py",
      "mimetype": "text/x-python",
      "name": "python",
      "nbconvert_exporter": "python",
      "pygments_lexer": "ipython3",
      "version": "3.8.0"
    }
  },
  "nbformat": 4,
  "nbformat_minor": 0
}
