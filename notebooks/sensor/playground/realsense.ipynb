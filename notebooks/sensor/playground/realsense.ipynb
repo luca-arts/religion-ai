{
  "nbformat": 4,
  "nbformat_minor": 0,
  "metadata": {
    "colab": {
      "name": "Untitled1.ipynb",
      "provenance": [],
      "authorship_tag": "ABX9TyPWrcI6KyMrm56kqstPcaPC"
    },
    "kernelspec": {
      "name": "python3",
      "display_name": "Python 3"
    },
    "language_info": {
      "name": "python"
    }
  },
  "cells": [
    {
      "cell_type": "code",
      "execution_count": 1,
      "metadata": {
        "id": "4EtOQJ5aGKXD",
        "outputId": "13893627-a725-41c0-ef47-47dd21130ffa",
        "colab": {
          "base_uri": "https://localhost:8080/"
        }
      },
      "outputs": [
        {
          "output_type": "stream",
          "name": "stdout",
          "text": [
            "2\n"
          ]
        }
      ],
      "source": [
        "# religion stuff\n",
        "\n",
        "\n",
        "a = 1 + 1\n",
        "print(a)"
      ]
    }
  ]
}