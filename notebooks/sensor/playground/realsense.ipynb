{
  "nbformat": 4,
  "nbformat_minor": 0,
  "metadata": {
    "colab": {
      "name": "Untitled1.ipynb",
      "provenance": [],
      "authorship_tag": "ABX9TyMODmb9DdPen74+wa0HeKDO",
      "include_colab_link": true
    },
    "kernelspec": {
      "name": "python3",
      "display_name": "Python 3"
    },
    "language_info": {
      "name": "python"
    }
  },
  "cells": [
    {
      "cell_type": "markdown",
      "metadata": {
        "id": "view-in-github",
        "colab_type": "text"
      },
      "source": [
        "<a href=\"https://colab.research.google.com/github/luca-arts/religion-ai/blob/master/notebooks/sensor/playground/realsense.ipynb\" target=\"_parent\"><img src=\"https://colab.research.google.com/assets/colab-badge.svg\" alt=\"Open In Colab\"/></a>"
      ]
    },
    {
      "cell_type": "code",
      "execution_count": 1,
      "metadata": {
        "id": "4EtOQJ5aGKXD",
        "colab": {
          "base_uri": "https://localhost:8080/"
        },
        "outputId": "13893627-a725-41c0-ef47-47dd21130ffa"
      },
      "outputs": [
        {
          "output_type": "stream",
          "name": "stdout",
          "text": [
            "2\n"
          ]
        }
      ],
      "source": [
        "# religion stuff\n",
        "\n",
        "\n",
        "a = 1 + 1\n",
        "a = 42\n",
        "print(a)\n"
      ]
    }
  ]
}